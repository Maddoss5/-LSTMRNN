{
 "cells": [
  {
   "cell_type": "code",
   "execution_count": 1,
   "id": "2d81aed3-5600-4738-96b3-8c6cf2ef49fc",
   "metadata": {},
   "outputs": [],
   "source": [
    "import torch\n",
    "import torch.nn as nn\n",
    "import torch.optim as optim\n",
    "import numpy as np\n",
    "from torch.utils.data import Dataset, DataLoader\n",
    "from transformers import AutoTokenizer\n",
    "import pandas as pd"
   ]
  },
  {
   "cell_type": "code",
   "execution_count": 2,
   "id": "e8cd003f-f7c9-4cc0-80db-193d84214620",
   "metadata": {},
   "outputs": [],
   "source": [
    "text= \"hello world this is retard number 1 . hello cunt you are a retard. hello stupid fuck you should kill yoruself . hello idiot you are so dumb no one wants to hire you . maybe you should stop being so dumb. You were born to kill yourself . You have nothing good going for you why are you still alive. Nobody likes you , you have no friends , no girl friends , you hate your job. why are you still alive . There is no point in you existing. So what are you gonna do? What are you gonna do about it ? This country hates you , people look at you with contempt , they want you gone . Why are you still here pajeet. I know this place is hell for me . I know no one likes me and most people hate me, I wished people were nice to me , i wish people would wouldnt look at me like i am a criminal. Its not my fault i was born brown. I have wanted to give up long ago , i wanted to go home ever since i came here. But i am no quitter. People who hate me for no reason i hope they dont have to face this upon themselves because that will make them realize how hard it is to be me.  Today i built Recurrent neural network by myself it feels pretty damn good. Maybe i should start building more and more ML models that would make me better at something. Today i learned about the dimensions of transformers. This week i plan to create Transformers from scratch including neural networks. By next week i should have implemented language translation , text summarization .\""
   ]
  },
  {
   "cell_type": "code",
   "execution_count": null,
   "id": "3f759619-2499-472b-a1eb-bb0bfedb9fe6",
   "metadata": {},
   "outputs": [],
   "source": []
  },
  {
   "cell_type": "code",
   "execution_count": 3,
   "id": "d518acf6-b0cc-4cb5-96d9-aaa4a748971f",
   "metadata": {},
   "outputs": [],
   "source": [
    "f=open(\"incel.txt\",\"r\" ,encoding='cp932', errors='ignore')"
   ]
  },
  {
   "cell_type": "code",
   "execution_count": 4,
   "id": "92789900-cf1c-492f-bed2-ee6fa30a07da",
   "metadata": {},
   "outputs": [],
   "source": [
    "dat=f.read()"
   ]
  },
  {
   "cell_type": "code",
   "execution_count": null,
   "id": "2563cc8c-5926-42fb-9623-6f65934fc503",
   "metadata": {},
   "outputs": [],
   "source": []
  },
  {
   "cell_type": "code",
   "execution_count": 5,
   "id": "9de7cd1d-a580-4393-a509-66fd459b92d6",
   "metadata": {},
   "outputs": [],
   "source": [
    "#remove comment to train on text instead \n",
    "#text=dat"
   ]
  },
  {
   "cell_type": "code",
   "execution_count": null,
   "id": "ec57546c-31d4-4e71-b029-13272ad63370",
   "metadata": {},
   "outputs": [],
   "source": []
  },
  {
   "cell_type": "code",
   "execution_count": 6,
   "id": "26483ec5-b9f5-4f14-a724-f72da3630ecd",
   "metadata": {},
   "outputs": [],
   "source": [
    "tokenizer=AutoTokenizer.from_pretrained(\"bert-base-uncased\")\n",
    "#tokenizes based on bert-based\n",
    "tokens=tokenizer.tokenize(text) \n",
    "#converts tokens to integers\n",
    "input_ids=tokenizer.convert_tokens_to_ids(tokens)    \n",
    "#vocab size of tokenizer used \n",
    "vocab_size=tokenizer.vocab_size      "
   ]
  },
  {
   "cell_type": "code",
   "execution_count": null,
   "id": "b4d7eb86-5560-4c71-ac47-1093a24762b9",
   "metadata": {},
   "outputs": [],
   "source": []
  },
  {
   "cell_type": "code",
   "execution_count": 7,
   "id": "27613052-bd61-413c-8eaa-a56d05f9ca4a",
   "metadata": {},
   "outputs": [
    {
     "data": {
      "text/plain": [
       "1238"
      ]
     },
     "execution_count": 7,
     "metadata": {},
     "output_type": "execute_result"
    }
   ],
   "source": [
    "len(text)"
   ]
  },
  {
   "cell_type": "code",
   "execution_count": 8,
   "id": "c670b025-22cb-4b94-9070-b018e8066431",
   "metadata": {},
   "outputs": [
    {
     "data": {
      "text/plain": [
       "290"
      ]
     },
     "execution_count": 8,
     "metadata": {},
     "output_type": "execute_result"
    }
   ],
   "source": [
    "len(tokens)"
   ]
  },
  {
   "cell_type": "markdown",
   "id": "749f28b9-4532-4d81-9d1c-565eaf2e262a",
   "metadata": {},
   "source": [
    "**Testing out tokenizer and converting it back**"
   ]
  },
  {
   "cell_type": "code",
   "execution_count": 9,
   "id": "41fe05e2-f6f2-4a46-87f0-8bff6b2bbb82",
   "metadata": {},
   "outputs": [
    {
     "name": "stdout",
     "output_type": "stream",
     "text": [
      "['hello', 'world', 'this', 'is', 're', '##tar', '##d', 'number', '1', '.', 'hello', 'cu', '##nt', 'you', 'are', 'a', 're', '##tar', '##d', '.']\n"
     ]
    }
   ],
   "source": [
    "ha=tokenizer.convert_ids_to_tokens(input_ids[:20])\n",
    "print(ha)"
   ]
  },
  {
   "cell_type": "code",
   "execution_count": 10,
   "id": "c860343d-5032-4c8a-a293-7693f49af073",
   "metadata": {},
   "outputs": [],
   "source": [
    "seq_len=6\n",
    "x_train=[]\n",
    "y_train=[]\n",
    "data=[]\n",
    "for i in range(len(input_ids)-seq_len):\n",
    "    dat_x=input_ids[i:i+seq_len]\n",
    "    dat_y=input_ids[i+seq_len]\n",
    "    data.append((torch.tensor(dat_x),dat_y))\n",
    "    \n",
    "    "
   ]
  },
  {
   "cell_type": "code",
   "execution_count": 11,
   "id": "ed5495ab-0a11-4f4c-a463-be6c904ae0a7",
   "metadata": {},
   "outputs": [
    {
     "data": {
      "text/plain": [
       "[(tensor([7592, 2088, 2023, 2003, 2128, 7559]), 2094),\n",
       " (tensor([2088, 2023, 2003, 2128, 7559, 2094]), 2193),\n",
       " (tensor([2023, 2003, 2128, 7559, 2094, 2193]), 1015),\n",
       " (tensor([2003, 2128, 7559, 2094, 2193, 1015]), 1012),\n",
       " (tensor([2128, 7559, 2094, 2193, 1015, 1012]), 7592),\n",
       " (tensor([7559, 2094, 2193, 1015, 1012, 7592]), 12731),\n",
       " (tensor([ 2094,  2193,  1015,  1012,  7592, 12731]), 3372),\n",
       " (tensor([ 2193,  1015,  1012,  7592, 12731,  3372]), 2017),\n",
       " (tensor([ 1015,  1012,  7592, 12731,  3372,  2017]), 2024),\n",
       " (tensor([ 1012,  7592, 12731,  3372,  2017,  2024]), 1037),\n",
       " (tensor([ 7592, 12731,  3372,  2017,  2024,  1037]), 2128),\n",
       " (tensor([12731,  3372,  2017,  2024,  1037,  2128]), 7559),\n",
       " (tensor([3372, 2017, 2024, 1037, 2128, 7559]), 2094),\n",
       " (tensor([2017, 2024, 1037, 2128, 7559, 2094]), 1012),\n",
       " (tensor([2024, 1037, 2128, 7559, 2094, 1012]), 7592),\n",
       " (tensor([1037, 2128, 7559, 2094, 1012, 7592]), 5236),\n",
       " (tensor([2128, 7559, 2094, 1012, 7592, 5236]), 6616),\n",
       " (tensor([7559, 2094, 1012, 7592, 5236, 6616]), 2017),\n",
       " (tensor([2094, 1012, 7592, 5236, 6616, 2017]), 2323),\n",
       " (tensor([1012, 7592, 5236, 6616, 2017, 2323]), 3102),\n",
       " (tensor([7592, 5236, 6616, 2017, 2323, 3102]), 10930),\n",
       " (tensor([ 5236,  6616,  2017,  2323,  3102, 10930]), 7946),\n",
       " (tensor([ 6616,  2017,  2323,  3102, 10930,  7946]), 2884),\n",
       " (tensor([ 2017,  2323,  3102, 10930,  7946,  2884]), 2546),\n",
       " (tensor([ 2323,  3102, 10930,  7946,  2884,  2546]), 1012),\n",
       " (tensor([ 3102, 10930,  7946,  2884,  2546,  1012]), 7592),\n",
       " (tensor([10930,  7946,  2884,  2546,  1012,  7592]), 10041),\n",
       " (tensor([ 7946,  2884,  2546,  1012,  7592, 10041]), 2017),\n",
       " (tensor([ 2884,  2546,  1012,  7592, 10041,  2017]), 2024),\n",
       " (tensor([ 2546,  1012,  7592, 10041,  2017,  2024]), 2061),\n",
       " (tensor([ 1012,  7592, 10041,  2017,  2024,  2061]), 12873),\n",
       " (tensor([ 7592, 10041,  2017,  2024,  2061, 12873]), 2053),\n",
       " (tensor([10041,  2017,  2024,  2061, 12873,  2053]), 2028),\n",
       " (tensor([ 2017,  2024,  2061, 12873,  2053,  2028]), 4122),\n",
       " (tensor([ 2024,  2061, 12873,  2053,  2028,  4122]), 2000),\n",
       " (tensor([ 2061, 12873,  2053,  2028,  4122,  2000]), 10887),\n",
       " (tensor([12873,  2053,  2028,  4122,  2000, 10887]), 2017),\n",
       " (tensor([ 2053,  2028,  4122,  2000, 10887,  2017]), 1012),\n",
       " (tensor([ 2028,  4122,  2000, 10887,  2017,  1012]), 2672),\n",
       " (tensor([ 4122,  2000, 10887,  2017,  1012,  2672]), 2017),\n",
       " (tensor([ 2000, 10887,  2017,  1012,  2672,  2017]), 2323),\n",
       " (tensor([10887,  2017,  1012,  2672,  2017,  2323]), 2644),\n",
       " (tensor([2017, 1012, 2672, 2017, 2323, 2644]), 2108),\n",
       " (tensor([1012, 2672, 2017, 2323, 2644, 2108]), 2061),\n",
       " (tensor([2672, 2017, 2323, 2644, 2108, 2061]), 12873),\n",
       " (tensor([ 2017,  2323,  2644,  2108,  2061, 12873]), 1012),\n",
       " (tensor([ 2323,  2644,  2108,  2061, 12873,  1012]), 2017),\n",
       " (tensor([ 2644,  2108,  2061, 12873,  1012,  2017]), 2020),\n",
       " (tensor([ 2108,  2061, 12873,  1012,  2017,  2020]), 2141),\n",
       " (tensor([ 2061, 12873,  1012,  2017,  2020,  2141]), 2000),\n",
       " (tensor([12873,  1012,  2017,  2020,  2141,  2000]), 3102),\n",
       " (tensor([1012, 2017, 2020, 2141, 2000, 3102]), 4426),\n",
       " (tensor([2017, 2020, 2141, 2000, 3102, 4426]), 1012),\n",
       " (tensor([2020, 2141, 2000, 3102, 4426, 1012]), 2017),\n",
       " (tensor([2141, 2000, 3102, 4426, 1012, 2017]), 2031),\n",
       " (tensor([2000, 3102, 4426, 1012, 2017, 2031]), 2498),\n",
       " (tensor([3102, 4426, 1012, 2017, 2031, 2498]), 2204),\n",
       " (tensor([4426, 1012, 2017, 2031, 2498, 2204]), 2183),\n",
       " (tensor([1012, 2017, 2031, 2498, 2204, 2183]), 2005),\n",
       " (tensor([2017, 2031, 2498, 2204, 2183, 2005]), 2017),\n",
       " (tensor([2031, 2498, 2204, 2183, 2005, 2017]), 2339),\n",
       " (tensor([2498, 2204, 2183, 2005, 2017, 2339]), 2024),\n",
       " (tensor([2204, 2183, 2005, 2017, 2339, 2024]), 2017),\n",
       " (tensor([2183, 2005, 2017, 2339, 2024, 2017]), 2145),\n",
       " (tensor([2005, 2017, 2339, 2024, 2017, 2145]), 4142),\n",
       " (tensor([2017, 2339, 2024, 2017, 2145, 4142]), 1012),\n",
       " (tensor([2339, 2024, 2017, 2145, 4142, 1012]), 6343),\n",
       " (tensor([2024, 2017, 2145, 4142, 1012, 6343]), 7777),\n",
       " (tensor([2017, 2145, 4142, 1012, 6343, 7777]), 2017),\n",
       " (tensor([2145, 4142, 1012, 6343, 7777, 2017]), 1010),\n",
       " (tensor([4142, 1012, 6343, 7777, 2017, 1010]), 2017),\n",
       " (tensor([1012, 6343, 7777, 2017, 1010, 2017]), 2031),\n",
       " (tensor([6343, 7777, 2017, 1010, 2017, 2031]), 2053),\n",
       " (tensor([7777, 2017, 1010, 2017, 2031, 2053]), 2814),\n",
       " (tensor([2017, 1010, 2017, 2031, 2053, 2814]), 1010),\n",
       " (tensor([1010, 2017, 2031, 2053, 2814, 1010]), 2053),\n",
       " (tensor([2017, 2031, 2053, 2814, 1010, 2053]), 2611),\n",
       " (tensor([2031, 2053, 2814, 1010, 2053, 2611]), 2814),\n",
       " (tensor([2053, 2814, 1010, 2053, 2611, 2814]), 1010),\n",
       " (tensor([2814, 1010, 2053, 2611, 2814, 1010]), 2017),\n",
       " (tensor([1010, 2053, 2611, 2814, 1010, 2017]), 5223),\n",
       " (tensor([2053, 2611, 2814, 1010, 2017, 5223]), 2115),\n",
       " (tensor([2611, 2814, 1010, 2017, 5223, 2115]), 3105),\n",
       " (tensor([2814, 1010, 2017, 5223, 2115, 3105]), 1012),\n",
       " (tensor([1010, 2017, 5223, 2115, 3105, 1012]), 2339),\n",
       " (tensor([2017, 5223, 2115, 3105, 1012, 2339]), 2024),\n",
       " (tensor([5223, 2115, 3105, 1012, 2339, 2024]), 2017),\n",
       " (tensor([2115, 3105, 1012, 2339, 2024, 2017]), 2145),\n",
       " (tensor([3105, 1012, 2339, 2024, 2017, 2145]), 4142),\n",
       " (tensor([1012, 2339, 2024, 2017, 2145, 4142]), 1012),\n",
       " (tensor([2339, 2024, 2017, 2145, 4142, 1012]), 2045),\n",
       " (tensor([2024, 2017, 2145, 4142, 1012, 2045]), 2003),\n",
       " (tensor([2017, 2145, 4142, 1012, 2045, 2003]), 2053),\n",
       " (tensor([2145, 4142, 1012, 2045, 2003, 2053]), 2391),\n",
       " (tensor([4142, 1012, 2045, 2003, 2053, 2391]), 1999),\n",
       " (tensor([1012, 2045, 2003, 2053, 2391, 1999]), 2017),\n",
       " (tensor([2045, 2003, 2053, 2391, 1999, 2017]), 4493),\n",
       " (tensor([2003, 2053, 2391, 1999, 2017, 4493]), 1012),\n",
       " (tensor([2053, 2391, 1999, 2017, 4493, 1012]), 2061),\n",
       " (tensor([2391, 1999, 2017, 4493, 1012, 2061]), 2054),\n",
       " (tensor([1999, 2017, 4493, 1012, 2061, 2054]), 2024),\n",
       " (tensor([2017, 4493, 1012, 2061, 2054, 2024]), 2017),\n",
       " (tensor([4493, 1012, 2061, 2054, 2024, 2017]), 6069),\n",
       " (tensor([1012, 2061, 2054, 2024, 2017, 6069]), 2079),\n",
       " (tensor([2061, 2054, 2024, 2017, 6069, 2079]), 1029),\n",
       " (tensor([2054, 2024, 2017, 6069, 2079, 1029]), 2054),\n",
       " (tensor([2024, 2017, 6069, 2079, 1029, 2054]), 2024),\n",
       " (tensor([2017, 6069, 2079, 1029, 2054, 2024]), 2017),\n",
       " (tensor([6069, 2079, 1029, 2054, 2024, 2017]), 6069),\n",
       " (tensor([2079, 1029, 2054, 2024, 2017, 6069]), 2079),\n",
       " (tensor([1029, 2054, 2024, 2017, 6069, 2079]), 2055),\n",
       " (tensor([2054, 2024, 2017, 6069, 2079, 2055]), 2009),\n",
       " (tensor([2024, 2017, 6069, 2079, 2055, 2009]), 1029),\n",
       " (tensor([2017, 6069, 2079, 2055, 2009, 1029]), 2023),\n",
       " (tensor([6069, 2079, 2055, 2009, 1029, 2023]), 2406),\n",
       " (tensor([2079, 2055, 2009, 1029, 2023, 2406]), 16424),\n",
       " (tensor([ 2055,  2009,  1029,  2023,  2406, 16424]), 2017),\n",
       " (tensor([ 2009,  1029,  2023,  2406, 16424,  2017]), 1010),\n",
       " (tensor([ 1029,  2023,  2406, 16424,  2017,  1010]), 2111),\n",
       " (tensor([ 2023,  2406, 16424,  2017,  1010,  2111]), 2298),\n",
       " (tensor([ 2406, 16424,  2017,  1010,  2111,  2298]), 2012),\n",
       " (tensor([16424,  2017,  1010,  2111,  2298,  2012]), 2017),\n",
       " (tensor([2017, 1010, 2111, 2298, 2012, 2017]), 2007),\n",
       " (tensor([1010, 2111, 2298, 2012, 2017, 2007]), 17152),\n",
       " (tensor([ 2111,  2298,  2012,  2017,  2007, 17152]), 1010),\n",
       " (tensor([ 2298,  2012,  2017,  2007, 17152,  1010]), 2027),\n",
       " (tensor([ 2012,  2017,  2007, 17152,  1010,  2027]), 2215),\n",
       " (tensor([ 2017,  2007, 17152,  1010,  2027,  2215]), 2017),\n",
       " (tensor([ 2007, 17152,  1010,  2027,  2215,  2017]), 2908),\n",
       " (tensor([17152,  1010,  2027,  2215,  2017,  2908]), 1012),\n",
       " (tensor([1010, 2027, 2215, 2017, 2908, 1012]), 2339),\n",
       " (tensor([2027, 2215, 2017, 2908, 1012, 2339]), 2024),\n",
       " (tensor([2215, 2017, 2908, 1012, 2339, 2024]), 2017),\n",
       " (tensor([2017, 2908, 1012, 2339, 2024, 2017]), 2145),\n",
       " (tensor([2908, 1012, 2339, 2024, 2017, 2145]), 2182),\n",
       " (tensor([1012, 2339, 2024, 2017, 2145, 2182]), 6643),\n",
       " (tensor([2339, 2024, 2017, 2145, 2182, 6643]), 16963),\n",
       " (tensor([ 2024,  2017,  2145,  2182,  6643, 16963]), 2102),\n",
       " (tensor([ 2017,  2145,  2182,  6643, 16963,  2102]), 1012),\n",
       " (tensor([ 2145,  2182,  6643, 16963,  2102,  1012]), 1045),\n",
       " (tensor([ 2182,  6643, 16963,  2102,  1012,  1045]), 2113),\n",
       " (tensor([ 6643, 16963,  2102,  1012,  1045,  2113]), 2023),\n",
       " (tensor([16963,  2102,  1012,  1045,  2113,  2023]), 2173),\n",
       " (tensor([2102, 1012, 1045, 2113, 2023, 2173]), 2003),\n",
       " (tensor([1012, 1045, 2113, 2023, 2173, 2003]), 3109),\n",
       " (tensor([1045, 2113, 2023, 2173, 2003, 3109]), 2005),\n",
       " (tensor([2113, 2023, 2173, 2003, 3109, 2005]), 2033),\n",
       " (tensor([2023, 2173, 2003, 3109, 2005, 2033]), 1012),\n",
       " (tensor([2173, 2003, 3109, 2005, 2033, 1012]), 1045),\n",
       " (tensor([2003, 3109, 2005, 2033, 1012, 1045]), 2113),\n",
       " (tensor([3109, 2005, 2033, 1012, 1045, 2113]), 2053),\n",
       " (tensor([2005, 2033, 1012, 1045, 2113, 2053]), 2028),\n",
       " (tensor([2033, 1012, 1045, 2113, 2053, 2028]), 7777),\n",
       " (tensor([1012, 1045, 2113, 2053, 2028, 7777]), 2033),\n",
       " (tensor([1045, 2113, 2053, 2028, 7777, 2033]), 1998),\n",
       " (tensor([2113, 2053, 2028, 7777, 2033, 1998]), 2087),\n",
       " (tensor([2053, 2028, 7777, 2033, 1998, 2087]), 2111),\n",
       " (tensor([2028, 7777, 2033, 1998, 2087, 2111]), 5223),\n",
       " (tensor([7777, 2033, 1998, 2087, 2111, 5223]), 2033),\n",
       " (tensor([2033, 1998, 2087, 2111, 5223, 2033]), 1010),\n",
       " (tensor([1998, 2087, 2111, 5223, 2033, 1010]), 1045),\n",
       " (tensor([2087, 2111, 5223, 2033, 1010, 1045]), 6257),\n",
       " (tensor([2111, 5223, 2033, 1010, 1045, 6257]), 2111),\n",
       " (tensor([5223, 2033, 1010, 1045, 6257, 2111]), 2020),\n",
       " (tensor([2033, 1010, 1045, 6257, 2111, 2020]), 3835),\n",
       " (tensor([1010, 1045, 6257, 2111, 2020, 3835]), 2000),\n",
       " (tensor([1045, 6257, 2111, 2020, 3835, 2000]), 2033),\n",
       " (tensor([6257, 2111, 2020, 3835, 2000, 2033]), 1010),\n",
       " (tensor([2111, 2020, 3835, 2000, 2033, 1010]), 1045),\n",
       " (tensor([2020, 3835, 2000, 2033, 1010, 1045]), 4299),\n",
       " (tensor([3835, 2000, 2033, 1010, 1045, 4299]), 2111),\n",
       " (tensor([2000, 2033, 1010, 1045, 4299, 2111]), 2052),\n",
       " (tensor([2033, 1010, 1045, 4299, 2111, 2052]), 2876),\n",
       " (tensor([1010, 1045, 4299, 2111, 2052, 2876]), 2102),\n",
       " (tensor([1045, 4299, 2111, 2052, 2876, 2102]), 2298),\n",
       " (tensor([4299, 2111, 2052, 2876, 2102, 2298]), 2012),\n",
       " (tensor([2111, 2052, 2876, 2102, 2298, 2012]), 2033),\n",
       " (tensor([2052, 2876, 2102, 2298, 2012, 2033]), 2066),\n",
       " (tensor([2876, 2102, 2298, 2012, 2033, 2066]), 1045),\n",
       " (tensor([2102, 2298, 2012, 2033, 2066, 1045]), 2572),\n",
       " (tensor([2298, 2012, 2033, 2066, 1045, 2572]), 1037),\n",
       " (tensor([2012, 2033, 2066, 1045, 2572, 1037]), 4735),\n",
       " (tensor([2033, 2066, 1045, 2572, 1037, 4735]), 1012),\n",
       " (tensor([2066, 1045, 2572, 1037, 4735, 1012]), 2049),\n",
       " (tensor([1045, 2572, 1037, 4735, 1012, 2049]), 2025),\n",
       " (tensor([2572, 1037, 4735, 1012, 2049, 2025]), 2026),\n",
       " (tensor([1037, 4735, 1012, 2049, 2025, 2026]), 6346),\n",
       " (tensor([4735, 1012, 2049, 2025, 2026, 6346]), 1045),\n",
       " (tensor([1012, 2049, 2025, 2026, 6346, 1045]), 2001),\n",
       " (tensor([2049, 2025, 2026, 6346, 1045, 2001]), 2141),\n",
       " (tensor([2025, 2026, 6346, 1045, 2001, 2141]), 2829),\n",
       " (tensor([2026, 6346, 1045, 2001, 2141, 2829]), 1012),\n",
       " (tensor([6346, 1045, 2001, 2141, 2829, 1012]), 1045),\n",
       " (tensor([1045, 2001, 2141, 2829, 1012, 1045]), 2031),\n",
       " (tensor([2001, 2141, 2829, 1012, 1045, 2031]), 2359),\n",
       " (tensor([2141, 2829, 1012, 1045, 2031, 2359]), 2000),\n",
       " (tensor([2829, 1012, 1045, 2031, 2359, 2000]), 2507),\n",
       " (tensor([1012, 1045, 2031, 2359, 2000, 2507]), 2039),\n",
       " (tensor([1045, 2031, 2359, 2000, 2507, 2039]), 2146),\n",
       " (tensor([2031, 2359, 2000, 2507, 2039, 2146]), 3283),\n",
       " (tensor([2359, 2000, 2507, 2039, 2146, 3283]), 1010),\n",
       " (tensor([2000, 2507, 2039, 2146, 3283, 1010]), 1045),\n",
       " (tensor([2507, 2039, 2146, 3283, 1010, 1045]), 2359),\n",
       " (tensor([2039, 2146, 3283, 1010, 1045, 2359]), 2000),\n",
       " (tensor([2146, 3283, 1010, 1045, 2359, 2000]), 2175),\n",
       " (tensor([3283, 1010, 1045, 2359, 2000, 2175]), 2188),\n",
       " (tensor([1010, 1045, 2359, 2000, 2175, 2188]), 2412),\n",
       " (tensor([1045, 2359, 2000, 2175, 2188, 2412]), 2144),\n",
       " (tensor([2359, 2000, 2175, 2188, 2412, 2144]), 1045),\n",
       " (tensor([2000, 2175, 2188, 2412, 2144, 1045]), 2234),\n",
       " (tensor([2175, 2188, 2412, 2144, 1045, 2234]), 2182),\n",
       " (tensor([2188, 2412, 2144, 1045, 2234, 2182]), 1012),\n",
       " (tensor([2412, 2144, 1045, 2234, 2182, 1012]), 2021),\n",
       " (tensor([2144, 1045, 2234, 2182, 1012, 2021]), 1045),\n",
       " (tensor([1045, 2234, 2182, 1012, 2021, 1045]), 2572),\n",
       " (tensor([2234, 2182, 1012, 2021, 1045, 2572]), 2053),\n",
       " (tensor([2182, 1012, 2021, 1045, 2572, 2053]), 8046),\n",
       " (tensor([1012, 2021, 1045, 2572, 2053, 8046]), 3334),\n",
       " (tensor([2021, 1045, 2572, 2053, 8046, 3334]), 1012),\n",
       " (tensor([1045, 2572, 2053, 8046, 3334, 1012]), 2111),\n",
       " (tensor([2572, 2053, 8046, 3334, 1012, 2111]), 2040),\n",
       " (tensor([2053, 8046, 3334, 1012, 2111, 2040]), 5223),\n",
       " (tensor([8046, 3334, 1012, 2111, 2040, 5223]), 2033),\n",
       " (tensor([3334, 1012, 2111, 2040, 5223, 2033]), 2005),\n",
       " (tensor([1012, 2111, 2040, 5223, 2033, 2005]), 2053),\n",
       " (tensor([2111, 2040, 5223, 2033, 2005, 2053]), 3114),\n",
       " (tensor([2040, 5223, 2033, 2005, 2053, 3114]), 1045),\n",
       " (tensor([5223, 2033, 2005, 2053, 3114, 1045]), 3246),\n",
       " (tensor([2033, 2005, 2053, 3114, 1045, 3246]), 2027),\n",
       " (tensor([2005, 2053, 3114, 1045, 3246, 2027]), 2123),\n",
       " (tensor([2053, 3114, 1045, 3246, 2027, 2123]), 2102),\n",
       " (tensor([3114, 1045, 3246, 2027, 2123, 2102]), 2031),\n",
       " (tensor([1045, 3246, 2027, 2123, 2102, 2031]), 2000),\n",
       " (tensor([3246, 2027, 2123, 2102, 2031, 2000]), 2227),\n",
       " (tensor([2027, 2123, 2102, 2031, 2000, 2227]), 2023),\n",
       " (tensor([2123, 2102, 2031, 2000, 2227, 2023]), 2588),\n",
       " (tensor([2102, 2031, 2000, 2227, 2023, 2588]), 3209),\n",
       " (tensor([2031, 2000, 2227, 2023, 2588, 3209]), 2138),\n",
       " (tensor([2000, 2227, 2023, 2588, 3209, 2138]), 2008),\n",
       " (tensor([2227, 2023, 2588, 3209, 2138, 2008]), 2097),\n",
       " (tensor([2023, 2588, 3209, 2138, 2008, 2097]), 2191),\n",
       " (tensor([2588, 3209, 2138, 2008, 2097, 2191]), 2068),\n",
       " (tensor([3209, 2138, 2008, 2097, 2191, 2068]), 5382),\n",
       " (tensor([2138, 2008, 2097, 2191, 2068, 5382]), 2129),\n",
       " (tensor([2008, 2097, 2191, 2068, 5382, 2129]), 2524),\n",
       " (tensor([2097, 2191, 2068, 5382, 2129, 2524]), 2009),\n",
       " (tensor([2191, 2068, 5382, 2129, 2524, 2009]), 2003),\n",
       " (tensor([2068, 5382, 2129, 2524, 2009, 2003]), 2000),\n",
       " (tensor([5382, 2129, 2524, 2009, 2003, 2000]), 2022),\n",
       " (tensor([2129, 2524, 2009, 2003, 2000, 2022]), 2033),\n",
       " (tensor([2524, 2009, 2003, 2000, 2022, 2033]), 1012),\n",
       " (tensor([2009, 2003, 2000, 2022, 2033, 1012]), 2651),\n",
       " (tensor([2003, 2000, 2022, 2033, 1012, 2651]), 1045),\n",
       " (tensor([2000, 2022, 2033, 1012, 2651, 1045]), 2328),\n",
       " (tensor([2022, 2033, 1012, 2651, 1045, 2328]), 28667),\n",
       " (tensor([ 2033,  1012,  2651,  1045,  2328, 28667]), 29264),\n",
       " (tensor([ 1012,  2651,  1045,  2328, 28667, 29264]), 15756),\n",
       " (tensor([ 2651,  1045,  2328, 28667, 29264, 15756]), 2897),\n",
       " (tensor([ 1045,  2328, 28667, 29264, 15756,  2897]), 2011),\n",
       " (tensor([ 2328, 28667, 29264, 15756,  2897,  2011]), 2870),\n",
       " (tensor([28667, 29264, 15756,  2897,  2011,  2870]), 2009),\n",
       " (tensor([29264, 15756,  2897,  2011,  2870,  2009]), 5683),\n",
       " (tensor([15756,  2897,  2011,  2870,  2009,  5683]), 3492),\n",
       " (tensor([2897, 2011, 2870, 2009, 5683, 3492]), 4365),\n",
       " (tensor([2011, 2870, 2009, 5683, 3492, 4365]), 2204),\n",
       " (tensor([2870, 2009, 5683, 3492, 4365, 2204]), 1012),\n",
       " (tensor([2009, 5683, 3492, 4365, 2204, 1012]), 2672),\n",
       " (tensor([5683, 3492, 4365, 2204, 1012, 2672]), 1045),\n",
       " (tensor([3492, 4365, 2204, 1012, 2672, 1045]), 2323),\n",
       " (tensor([4365, 2204, 1012, 2672, 1045, 2323]), 2707),\n",
       " (tensor([2204, 1012, 2672, 1045, 2323, 2707]), 2311),\n",
       " (tensor([1012, 2672, 1045, 2323, 2707, 2311]), 2062),\n",
       " (tensor([2672, 1045, 2323, 2707, 2311, 2062]), 1998),\n",
       " (tensor([1045, 2323, 2707, 2311, 2062, 1998]), 2062),\n",
       " (tensor([2323, 2707, 2311, 2062, 1998, 2062]), 19875),\n",
       " (tensor([ 2707,  2311,  2062,  1998,  2062, 19875]), 4275),\n",
       " (tensor([ 2311,  2062,  1998,  2062, 19875,  4275]), 2008),\n",
       " (tensor([ 2062,  1998,  2062, 19875,  4275,  2008]), 2052),\n",
       " (tensor([ 1998,  2062, 19875,  4275,  2008,  2052]), 2191),\n",
       " (tensor([ 2062, 19875,  4275,  2008,  2052,  2191]), 2033),\n",
       " (tensor([19875,  4275,  2008,  2052,  2191,  2033]), 2488),\n",
       " (tensor([4275, 2008, 2052, 2191, 2033, 2488]), 2012),\n",
       " (tensor([2008, 2052, 2191, 2033, 2488, 2012]), 2242),\n",
       " (tensor([2052, 2191, 2033, 2488, 2012, 2242]), 1012)]"
      ]
     },
     "execution_count": 11,
     "metadata": {},
     "output_type": "execute_result"
    }
   ],
   "source": [
    "data"
   ]
  },
  {
   "cell_type": "code",
   "execution_count": 12,
   "id": "17b6697b-a6e2-47d4-966e-befbf48f7e01",
   "metadata": {},
   "outputs": [],
   "source": [
    "dataloader = DataLoader(data, batch_size=30, shuffle=False)"
   ]
  },
  {
   "cell_type": "code",
   "execution_count": null,
   "id": "c2699338-7566-4ec2-805c-35d3c75824f6",
   "metadata": {},
   "outputs": [],
   "source": []
  },
  {
   "cell_type": "code",
   "execution_count": 13,
   "id": "83f0a0e2-ab74-4f80-8ab7-a6ceeba44c66",
   "metadata": {},
   "outputs": [],
   "source": [
    "class RNNModel(nn.Module):\n",
    "    def __init__(self, vocab_size, embed_size, hidden_size):\n",
    "        super(RNNModel, self).__init__()\n",
    "        self.embed = nn.Embedding(vocab_size, embed_size)\n",
    "        self.learnm= nn.LSTM(embed_size, hidden_size, batch_first=True)\n",
    "        #self.learnm=nn.RNN(embed_size, hidden_size, batch_first=True)\n",
    "        self.fc = nn.Linear(hidden_size, vocab_size)\n",
    "\n",
    "    def forward(self, x):\n",
    "        x = self.embed(x)\n",
    "        out,_ = self.learnm(x)\n",
    "        out = self.fc(out[:, -1, :])\n",
    "        return out \n"
   ]
  },
  {
   "cell_type": "code",
   "execution_count": null,
   "id": "e496558d-3a25-47e4-91a6-91f66c6d7452",
   "metadata": {},
   "outputs": [],
   "source": []
  },
  {
   "cell_type": "code",
   "execution_count": 14,
   "id": "7b15f361-dbb4-464e-8086-685efb0728cd",
   "metadata": {},
   "outputs": [],
   "source": [
    "embed_size = 20\n",
    "hidden_size = 30\n",
    "model = RNNModel(vocab_size, embed_size, hidden_size)\n",
    "criterion = nn.CrossEntropyLoss()\n",
    "optimizer = optim.Adam(model.parameters(), lr=0.01)"
   ]
  },
  {
   "cell_type": "code",
   "execution_count": null,
   "id": "9482507c-80f6-498a-890a-a1d984f7de45",
   "metadata": {},
   "outputs": [],
   "source": []
  },
  {
   "cell_type": "code",
   "execution_count": 15,
   "id": "0d64f3db-c987-4ef5-ba90-949ddfc9b9c4",
   "metadata": {},
   "outputs": [],
   "source": [
    "lul=nn.Embedding(vocab_size,10)\n",
    "kek=nn.Linear(10,40)"
   ]
  },
  {
   "cell_type": "code",
   "execution_count": 16,
   "id": "362b4bc6-4c64-45f9-ac2b-59ede8802d9f",
   "metadata": {},
   "outputs": [
    {
     "name": "stdout",
     "output_type": "stream",
     "text": [
      "torch.Size([30]) torch.Size([30, 10]) torch.Size([30, 40])\n",
      "torch.Size([30]) torch.Size([30, 10]) torch.Size([30, 40])\n",
      "torch.Size([30]) torch.Size([30, 10]) torch.Size([30, 40])\n",
      "torch.Size([30]) torch.Size([30, 10]) torch.Size([30, 40])\n",
      "torch.Size([30]) torch.Size([30, 10]) torch.Size([30, 40])\n",
      "torch.Size([30]) torch.Size([30, 10]) torch.Size([30, 40])\n",
      "torch.Size([30]) torch.Size([30, 10]) torch.Size([30, 40])\n",
      "torch.Size([30]) torch.Size([30, 10]) torch.Size([30, 40])\n",
      "torch.Size([30]) torch.Size([30, 10]) torch.Size([30, 40])\n",
      "torch.Size([14]) torch.Size([14, 10]) torch.Size([14, 40])\n"
     ]
    }
   ],
   "source": [
    "for inputs, target in dataloader:\n",
    "    ot=lul(target)\n",
    "    how=kek(ot)\n",
    "    print(target.shape,ot.shape,how.shape)"
   ]
  },
  {
   "cell_type": "code",
   "execution_count": null,
   "id": "c158e7f4-3269-481f-b73b-cce16f0849d0",
   "metadata": {},
   "outputs": [],
   "source": []
  },
  {
   "cell_type": "code",
   "execution_count": null,
   "id": "7d543fc4-bcfe-454d-9733-df558fb33495",
   "metadata": {},
   "outputs": [],
   "source": []
  },
  {
   "cell_type": "code",
   "execution_count": 17,
   "id": "f55908ce-1d87-43cc-8a7e-033279f47854",
   "metadata": {},
   "outputs": [
    {
     "name": "stdout",
     "output_type": "stream",
     "text": [
      "Epoch 0, Loss: 10.1866\n",
      "Epoch 10, Loss: 3.9841\n",
      "Epoch 20, Loss: 3.1749\n",
      "Epoch 30, Loss: 2.1118\n",
      "Epoch 40, Loss: 1.1970\n",
      "Epoch 50, Loss: 0.6856\n",
      "Epoch 60, Loss: 0.5487\n",
      "Epoch 70, Loss: 0.2662\n",
      "Epoch 80, Loss: 0.1614\n",
      "Epoch 90, Loss: 0.1066\n",
      "Epoch 100, Loss: 0.0761\n",
      "Epoch 110, Loss: 0.0952\n",
      "Epoch 120, Loss: 0.0479\n",
      "Epoch 130, Loss: 0.0363\n",
      "Epoch 140, Loss: 0.0293\n",
      "Epoch 150, Loss: 0.0246\n",
      "Epoch 160, Loss: 0.0211\n",
      "Epoch 170, Loss: 0.0184\n",
      "Epoch 180, Loss: 0.0161\n",
      "Epoch 190, Loss: 0.0142\n"
     ]
    }
   ],
   "source": [
    "epochs = 200\n",
    "for epoch in range(epochs):\n",
    "    for inputs, target in dataloader:\n",
    "        optimizer.zero_grad()\n",
    "        output=model(inputs)\n",
    "        loss =criterion(output, target)\n",
    "        #optimizer.step()\n",
    "        loss.backward()\n",
    "        optimizer.step()\n",
    "\n",
    "    if epoch%10==0:\n",
    "        print(f'Epoch {epoch}, Loss: {loss.item():.4f}')"
   ]
  },
  {
   "cell_type": "code",
   "execution_count": 20,
   "id": "d2516d53-aaa8-4af0-ab44-a10cb686b098",
   "metadata": {},
   "outputs": [],
   "source": [
    "howmanywords=150"
   ]
  },
  {
   "cell_type": "code",
   "execution_count": 21,
   "id": "d982a608-b161-47c3-b51b-93462c78e7d2",
   "metadata": {},
   "outputs": [
    {
     "name": "stdout",
     "output_type": "stream",
     "text": [
      "hownt why are i am a retard. maybe you are a retard. hello stupid fuck you should kill yoruself. hello idiot you are so dumb no one wants to hire you. maybe you should stop being so dumb. you were born to kill yourself. you have nothing good going for you why are you still alive. there is no point in you existing. so what are you gonna do? what are you gonna do about it? this country hates you, people look at you with contempt, they want you gone. why are you still here pajeet. i know this place is hell for me. i know no one likes me and most people hate me, i wished people were nice to me, i wish\n"
     ]
    }
   ],
   "source": [
    "def generate_text(model, start_text, next_words):\n",
    "    model.eval()\n",
    "    tokens = tokenizer.tokenize(start_text)\n",
    "    input_ids = tokenizer.convert_tokens_to_ids(tokens)\n",
    "    hidden = torch.zeros(1, 1, hidden_size)\n",
    "    for _ in range(next_words):\n",
    "        #even though input_ids are less than sequence length here, it works because we arent using fixed dimensions neural network.\n",
    "        input_seq = torch.tensor(input_ids[-seq_len:], dtype=torch.long).unsqueeze(0)  # Ensure shape (1, seq_length)\n",
    "        with torch.no_grad():\n",
    "            output = model(input_seq)\n",
    "        next_token_id = output.argmax().item()\n",
    "        input_ids.append(next_token_id)\n",
    "    return tokenizer.decode(input_ids)\n",
    "\n",
    "\n",
    "print(generate_text(model, \"how\",howmanywords))"
   ]
  },
  {
   "cell_type": "code",
   "execution_count": null,
   "id": "9d3666e7-ece9-426b-9f52-a76fee6e3cb1",
   "metadata": {},
   "outputs": [],
   "source": []
  },
  {
   "cell_type": "code",
   "execution_count": null,
   "id": "07d34829-312b-4ade-b901-1705311e466d",
   "metadata": {},
   "outputs": [],
   "source": []
  }
 ],
 "metadata": {
  "kernelspec": {
   "display_name": "Python 3 (ipykernel)",
   "language": "python",
   "name": "python3"
  },
  "language_info": {
   "codemirror_mode": {
    "name": "ipython",
    "version": 3
   },
   "file_extension": ".py",
   "mimetype": "text/x-python",
   "name": "python",
   "nbconvert_exporter": "python",
   "pygments_lexer": "ipython3",
   "version": "3.11.7"
  }
 },
 "nbformat": 4,
 "nbformat_minor": 5
}
